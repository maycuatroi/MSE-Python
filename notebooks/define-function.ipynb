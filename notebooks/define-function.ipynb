{
 "cells": [
  {
   "cell_type": "markdown",
   "metadata": {},
   "source": [
    "Write a function to prompt the user for hours and rate per hour to compute gross pay.\n",
    "\n",
    "Example:\n",
    "- Enter Hours: 35\n",
    "- Enter Rate: 2.75\n",
    "- Pay: 96.25"
   ]
  },
  {
   "cell_type": "code",
   "execution_count": 1,
   "metadata": {},
   "outputs": [
    {
     "name": "stdout",
     "output_type": "stream",
     "text": [
      "Pay: 6.0\n"
     ]
    }
   ],
   "source": [
    "def compute_pay(hours, rate):\n",
    "    return hours * rate\n",
    "\n",
    "\n",
    "def read_input():\n",
    "    hours = float(input(\"Enter Hours: \"))\n",
    "    rate = float(input(\"Enter Rate: \"))\n",
    "    return hours, rate\n",
    "\n",
    "\n",
    "hours, rate = read_input()\n",
    "payment = compute_pay(hours, rate)\n",
    "print(f\"Pay: {payment}\")\n"
   ]
  },
  {
   "cell_type": "markdown",
   "metadata": {},
   "source": [
    "Create a function that input a string and return the reverse of the string.\n",
    "\n",
    "Example:\n",
    "- Input: \"Hello, World!\"\n",
    "- Output: \"!dlroW ,olleH\""
   ]
  },
  {
   "cell_type": "code",
   "execution_count": 3,
   "metadata": {},
   "outputs": [
    {
     "name": "stdout",
     "output_type": "stream",
     "text": [
      "!dlroW ,olleH\n",
      "!dlroW ,olleH\n"
     ]
    }
   ],
   "source": [
    "def reverse_string(s):\n",
    "    return s[::-1]\n",
    "\n",
    "def using_for_loop(s):\n",
    "    result = \"\"\n",
    "    for char in s:\n",
    "        result = char + result\n",
    "    return result\n",
    "\n",
    "print(reverse_string(\"Hello, World!\"))\n",
    "print(using_for_loop(\"Hello, World!\"))"
   ]
  },
  {
   "cell_type": "code",
   "execution_count": 5,
   "metadata": {},
   "outputs": [
    {
     "data": {
      "text/plain": [
       "'hlo'"
      ]
     },
     "execution_count": 5,
     "metadata": {},
     "output_type": "execute_result"
    }
   ],
   "source": [
    "'hello'[0:5:2]"
   ]
  },
  {
   "cell_type": "markdown",
   "metadata": {},
   "source": [
    "Create a function that return the count of uppercase letters in a string.\n",
    "\n",
    "Example:\n",
    "- Input: \"Hello, World!\"\n",
    "- log: H,W\n",
    "- Output: 2"
   ]
  },
  {
   "cell_type": "code",
   "execution_count": 18,
   "metadata": {},
   "outputs": [
    {
     "name": "stdout",
     "output_type": "stream",
     "text": [
      "H, W, \n",
      "2\n"
     ]
    }
   ],
   "source": [
    "def count_uppercase_letters(s):\n",
    "    count = 0\n",
    "    for char in s:\n",
    "        if char.isupper():\n",
    "            print(char, end=\", \")\n",
    "            count += 1\n",
    "    print()\n",
    "    return count\n",
    "\n",
    "\n",
    "print(count_uppercase_letters(\"Hello, World!\"))"
   ]
  },
  {
   "cell_type": "markdown",
   "metadata": {},
   "source": [
    "Why 'a' > 'A' ?\n",
    "Answer: \n",
    "- 'a' is 97 in ASCII\n",
    "- 'A' is 65 in ASCII\n",
    "- 97 > 65"
   ]
  },
  {
   "cell_type": "code",
   "execution_count": 19,
   "metadata": {},
   "outputs": [
    {
     "name": "stdout",
     "output_type": "stream",
     "text": [
      "hello, world!\n"
     ]
    }
   ],
   "source": [
    "print(\"Hello, World!\".lower())"
   ]
  },
  {
   "cell_type": "code",
   "execution_count": 22,
   "metadata": {},
   "outputs": [
    {
     "data": {
      "text/plain": [
       "5"
      ]
     },
     "execution_count": 22,
     "metadata": {},
     "output_type": "execute_result"
    }
   ],
   "source": [
    "\"hello\".__len__()"
   ]
  },
  {
   "cell_type": "markdown",
   "metadata": {},
   "source": [
    "From a string, count the number of words."
   ]
  },
  {
   "cell_type": "code",
   "execution_count": 27,
   "metadata": {},
   "outputs": [
    {
     "data": {
      "text/plain": [
       "8"
      ]
     },
     "execution_count": 27,
     "metadata": {},
     "output_type": "execute_result"
    }
   ],
   "source": [
    "def count_words(text):\n",
    "    words = text.strip().split()\n",
    "    return len(words)\n",
    "\n",
    "count_words(\"cong hoa xa hoi chu nghia viet nam\")"
   ]
  },
  {
   "cell_type": "markdown",
   "metadata": {},
   "source": [
    "Exercise:\n",
    "- Write a function that extract the email from a string.\n",
    "- Example:\n",
    "  - Input: \"My email is socrat.nguyenanhbinh@gmail.com, nice to meet you.\"\n",
    "  - Output: \"socrat.nguyenanhbinh@gmail.com\"\n",
    "\n"
   ]
  },
  {
   "cell_type": "code",
   "execution_count": 29,
   "metadata": {},
   "outputs": [
    {
     "name": "stdout",
     "output_type": "stream",
     "text": [
      "('socrat.nguyenanhbinh@gmail.com', 'gmail.com')\n"
     ]
    }
   ],
   "source": [
    "def extract_email(text):\n",
    "    words = text.split()\n",
    "    for word in words:\n",
    "        if '@' in word:\n",
    "            email = word.strip('.,!?')\n",
    "            mail_server = email.split('@')[1]\n",
    "            return email, mail_server\n",
    "    return '', ''\n",
    "\n",
    "print(extract_email(\"My email is socrat.nguyenanhbinh@gmail.com, nice to meet you.\"))"
   ]
  },
  {
   "cell_type": "code",
   "execution_count": 30,
   "metadata": {},
   "outputs": [
    {
     "name": "stdout",
     "output_type": "stream",
     "text": [
      "hello\n"
     ]
    }
   ],
   "source": [
    "print \\\n",
    "    ('hello')"
   ]
  }
 ],
 "metadata": {
  "kernelspec": {
   "display_name": "base",
   "language": "python",
   "name": "python3"
  },
  "language_info": {
   "codemirror_mode": {
    "name": "ipython",
    "version": 3
   },
   "file_extension": ".py",
   "mimetype": "text/x-python",
   "name": "python",
   "nbconvert_exporter": "python",
   "pygments_lexer": "ipython3",
   "version": "3.9.12"
  }
 },
 "nbformat": 4,
 "nbformat_minor": 2
}
