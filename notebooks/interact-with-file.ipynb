{
 "cells": [
  {
   "cell_type": "code",
   "execution_count": 3,
   "metadata": {},
   "outputs": [
    {
     "data": {
      "text/plain": [
       "'Hello world!'"
      ]
     },
     "execution_count": 3,
     "metadata": {},
     "output_type": "execute_result"
    }
   ],
   "source": [
    "open('../data/sample.txt', 'r').read().strip()\n"
   ]
  },
  {
   "cell_type": "code",
   "execution_count": 15,
   "metadata": {},
   "outputs": [],
   "source": [
    "import glob\n",
    "import os\n",
    "import json\n",
    "\n",
    "def count_words(text):\n",
    "    return len(text.split())\n",
    "    \n",
    "def word_distribution(text):\n",
    "    words = {}\n",
    "    for line in text.splitlines():\n",
    "        for word in line.split():\n",
    "            words[word] = words.get(word, 0) + 1\n",
    "    return words\n",
    "\n",
    "data = {}\n",
    "for file in glob.glob('../data/*.txt'):\n",
    "    file_name = os.path.basename(file)\n",
    "    with open(file, 'r') as f:\n",
    "        text = f.read()\n",
    "        data[file_name] = {\n",
    "            'count_words': count_words(text),\n",
    "            'word_distribution': word_distribution(text)\n",
    "        }\n",
    "\n",
    "with open('../data/data.json', 'w') as f:\n",
    "    json.dump(data, f, indent=4)"
   ]
  },
  {
   "cell_type": "markdown",
   "metadata": {},
   "source": [
    "Exercise:\n"
   ]
  }
 ],
 "metadata": {
  "kernelspec": {
   "display_name": "base",
   "language": "python",
   "name": "python3"
  },
  "language_info": {
   "codemirror_mode": {
    "name": "ipython",
    "version": 3
   },
   "file_extension": ".py",
   "mimetype": "text/x-python",
   "name": "python",
   "nbconvert_exporter": "python",
   "pygments_lexer": "ipython3",
   "version": "3.11.8"
  }
 },
 "nbformat": 4,
 "nbformat_minor": 2
}
