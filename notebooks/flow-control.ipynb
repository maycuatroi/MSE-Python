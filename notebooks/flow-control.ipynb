{
 "cells": [
  {
   "cell_type": "markdown",
   "metadata": {},
   "source": [
    "Exercise: \n",
    "Vừa gà vừa chó, bó lại cho tròn 36 con 100 chân, hỏi mấy con gà, mấy con chó?"
   ]
  },
  {
   "cell_type": "code",
   "execution_count": 4,
   "metadata": {},
   "outputs": [
    {
     "name": "stdout",
     "output_type": "stream",
     "text": [
      "X =  22 Y =  14\n",
      "CPU times: user 251 μs, sys: 125 μs, total: 376 μs\n",
      "Wall time: 351 μs\n"
     ]
    }
   ],
   "source": [
    "%%time\n",
    "for x in range(36):\n",
    "    for y in range(36):\n",
    "        if x + y == 36 and 2*x + 4*y == 100:\n",
    "            print('X = ', x, 'Y = ', y)\n",
    "            "
   ]
  },
  {
   "cell_type": "markdown",
   "metadata": {},
   "source": [
    "**Ex2:** Using `while` loop, enter numbers from keyboard until met the character 'e' then stop and print sum of all numbers entered."
   ]
  },
  {
   "cell_type": "code",
   "execution_count": 6,
   "metadata": {},
   "outputs": [
    {
     "name": "stdout",
     "output_type": "stream",
     "text": [
      "Sum of all numbers entered:  16\n"
     ]
    }
   ],
   "source": [
    "total = 0\n",
    "while True:\n",
    "    num = input(\"Enter a number: \")\n",
    "    if num == 'e':\n",
    "        break\n",
    "    total += int(num)\n",
    "print(\"Sum of all numbers entered: \", total)"
   ]
  },
  {
   "cell_type": "markdown",
   "metadata": {},
   "source": [
    "**Ex3:** Find the largest prime number less than 1000\n"
   ]
  },
  {
   "cell_type": "code",
   "execution_count": 14,
   "metadata": {},
   "outputs": [
    {
     "name": "stdout",
     "output_type": "stream",
     "text": [
      "The largest prime number less than 1000 is: 997\n",
      "CPU times: user 275 µs, sys: 154 µs, total: 429 µs\n",
      "Wall time: 458 µs\n"
     ]
    }
   ],
   "source": [
    "%%time\n",
    "def is_prime(n):\n",
    "    if n <= 1:\n",
    "        return False\n",
    "    for i in range(2, int(n**0.5) + 1):\n",
    "        if n % i == 0:\n",
    "            return False\n",
    "    return True\n",
    "\n",
    "largest_prime = 0\n",
    "for num in range(1000, 2, -1 ):\n",
    "    if is_prime(num):\n",
    "        largest_prime = num\n",
    "        break\n",
    "\n",
    "print(\"The largest prime number less than 1000 is:\", largest_prime)\n"
   ]
  },
  {
   "cell_type": "code",
   "execution_count": null,
   "metadata": {},
   "outputs": [],
   "source": []
  }
 ],
 "metadata": {
  "kernelspec": {
   "display_name": "binhna",
   "language": "python",
   "name": "python3"
  },
  "language_info": {
   "codemirror_mode": {
    "name": "ipython",
    "version": 3
   },
   "file_extension": ".py",
   "mimetype": "text/x-python",
   "name": "python",
   "nbconvert_exporter": "python",
   "pygments_lexer": "ipython3",
   "version": "3.9.12"
  }
 },
 "nbformat": 4,
 "nbformat_minor": 2
}
