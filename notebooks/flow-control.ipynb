{
 "cells": [
  {
   "cell_type": "markdown",
   "metadata": {},
   "source": [
    "Exercise: \n",
    "Vừa gà vừa chó, bó lại cho tròn 36 con 100 chân, hỏi mấy con gà, mấy con chó?"
   ]
  },
  {
   "cell_type": "code",
   "execution_count": 7,
   "metadata": {},
   "outputs": [
    {
     "name": "stdout",
     "output_type": "stream",
     "text": [
      "X =  22 Y =  14\n",
      "CPU times: user 170 μs, sys: 126 μs, total: 296 μs\n",
      "Wall time: 252 μs\n"
     ]
    }
   ],
   "source": [
    "%%time\n",
    "for x in range(36):\n",
    "    for y in range(36):\n",
    "        if x + y == 36 and 2*x + 4*y == 100:\n",
    "            print('X = ', x, 'Y = ', y)\n",
    "\n"
   ]
  }
 ],
 "metadata": {
  "kernelspec": {
   "display_name": "binhna",
   "language": "python",
   "name": "python3"
  },
  "language_info": {
   "codemirror_mode": {
    "name": "ipython",
    "version": 3
   },
   "file_extension": ".py",
   "mimetype": "text/x-python",
   "name": "python",
   "nbconvert_exporter": "python",
   "pygments_lexer": "ipython3",
   "version": "3.11.8"
  }
 },
 "nbformat": 4,
 "nbformat_minor": 2
}
